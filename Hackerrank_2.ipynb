{
 "cells": [
  {
   "cell_type": "code",
   "execution_count": 1,
   "metadata": {},
   "outputs": [
    {
     "name": "stdout",
     "output_type": "stream",
     "text": [
      "[0, 1, 1, 8, 27]\n"
     ]
    }
   ],
   "source": [
    "# 1.lambda expression.\n",
    "\n",
    "cube = lambda x: pow(x,3)\n",
    "\n",
    "def fibonacci(n):\n",
    "    list = [0,1]\n",
    "    \n",
    "    for i in range(2,n):\n",
    "        list.append(list[i-2] + list[i-1])\n",
    "    return(list[0:n])\n",
    "\n",
    "if __name__ == '__main__':\n",
    "    n = int(input())\n",
    "    print(list(map(cube, fibonacci(n))))"
   ]
  },
  {
   "cell_type": "code",
   "execution_count": 3,
   "metadata": {},
   "outputs": [
    {
     "name": "stdout",
     "output_type": "stream",
     "text": [
      "[[0, 0, 0], [0, 0, 1], [0, 1, 0], [0, 1, 2], [0, 2, 1], [0, 2, 2], [1, 0, 0], [1, 0, 2], [1, 1, 1], [1, 1, 2], [1, 2, 0], [1, 2, 1], [1, 2, 2], [2, 0, 1], [2, 0, 2], [2, 1, 0], [2, 1, 1], [2, 1, 2], [2, 2, 0], [2, 2, 1], [2, 2, 2]]\n"
     ]
    }
   ],
   "source": [
    "# 2. list comprehension.\n",
    "\n",
    "if __name__ == '__main__':\n",
    "    x = int(input())\n",
    "    y = int(input())\n",
    "    z = int(input())\n",
    "    n = int(input())\n",
    "\n",
    "    output = []\n",
    "    abc = []\n",
    "    for X in range(x+1):\n",
    "        for Y in range(y+1):\n",
    "            for Z in range(z+1):\n",
    "                if X+Y+Z != n:\n",
    "                    abc = [X,Y,Z]\n",
    "                    output.append(abc)\n",
    "print(output)"
   ]
  },
  {
   "cell_type": "code",
   "execution_count": 6,
   "metadata": {},
   "outputs": [
    {
     "name": "stdout",
     "output_type": "stream",
     "text": [
      "Number of matches : 1\n"
     ]
    }
   ],
   "source": [
    "# 3.matching specific string.\n",
    "\n",
    "Regex_Pattern = r'python'\n",
    "import re\n",
    "Test_String = input()\n",
    "match = re.findall(Regex_Pattern, Test_String)\n",
    "\n",
    "print(\"Number of matches :\", len(match))"
   ]
  },
  {
   "cell_type": "code",
   "execution_count": 8,
   "metadata": {},
   "outputs": [
    {
     "name": "stdout",
     "output_type": "stream",
     "text": [
      "false\n"
     ]
    }
   ],
   "source": [
    "# 4.matching digits non digit character.\n",
    "\n",
    "Regex_Pattern = r\"\\d\\d(.)\\d\\d(.)\\d\\d\\d\\d\" \n",
    "import re\n",
    "print(str(bool(re.search(Regex_Pattern, input()))).lower())"
   ]
  },
  {
   "cell_type": "code",
   "execution_count": 10,
   "metadata": {},
   "outputs": [
    {
     "name": "stdout",
     "output_type": "stream",
     "text": [
      "false\n"
     ]
    }
   ],
   "source": [
    "# 5.matching specific character.\n",
    "\n",
    "Regex_Pattern = r'^[1234][120][xs0][30Aa][xsu][.,]$' \n",
    "import re\n",
    "print(str(bool(re.search(Regex_Pattern, input()))).lower())"
   ]
  },
  {
   "cell_type": "code",
   "execution_count": 13,
   "metadata": {},
   "outputs": [
    {
     "name": "stdout",
     "output_type": "stream",
     "text": [
      "false\n"
     ]
    }
   ],
   "source": [
    "# 6.matching specific character.\n",
    "\n",
    "Regex_Pattern = r'^[a-z][1-9][^a-z][^A-Z][A-Z].*'  \n",
    "import re\n",
    "print(str(bool(re.search(Regex_Pattern, input()))).lower())"
   ]
  },
  {
   "cell_type": "code",
   "execution_count": 12,
   "metadata": {},
   "outputs": [
    {
     "name": "stdout",
     "output_type": "stream",
     "text": [
      "false\n"
     ]
    }
   ],
   "source": [
    "# 7.matching start and end.\n",
    "\n",
    "Regex_Pattern = r\"^\\d\\S{4}\\.$\"  \n",
    "import re\n",
    "print(str(bool(re.search(Regex_Pattern, input()))).lower())"
   ]
  }
 ],
 "metadata": {
  "kernelspec": {
   "display_name": "Python 3",
   "language": "python",
   "name": "python3"
  },
  "language_info": {
   "codemirror_mode": {
    "name": "ipython",
    "version": 3
   },
   "file_extension": ".py",
   "mimetype": "text/x-python",
   "name": "python",
   "nbconvert_exporter": "python",
   "pygments_lexer": "ipython3",
   "version": "3.12.1"
  }
 },
 "nbformat": 4,
 "nbformat_minor": 2
}
